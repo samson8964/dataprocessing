{
 "cells": [
  {
   "cell_type": "code",
   "execution_count": 1,
   "id": "initial_id",
   "metadata": {
    "collapsed": true,
    "ExecuteTime": {
     "end_time": "2023-09-27T06:07:17.395041Z",
     "start_time": "2023-09-27T06:07:16.843176200Z"
    }
   },
   "outputs": [],
   "source": [
    "import pandas as pd\n",
    "import numpy as np\n",
    "import talib\n",
    "from datetime import datetime\n",
    "import os.path  # 管理路径"
   ]
  },
  {
   "cell_type": "code",
   "execution_count": 2,
   "outputs": [],
   "source": [
    "data = pd.read_excel('./复权后品种行情数据/棉花主连_2022-01-04_to_2023-09-05后复权数据.xlsx')"
   ],
   "metadata": {
    "collapsed": false,
    "ExecuteTime": {
     "end_time": "2023-09-27T06:08:54.068847500Z",
     "start_time": "2023-09-27T06:08:52.892564Z"
    }
   },
   "id": "795d1d1f7b4f7e49"
  },
  {
   "cell_type": "code",
   "execution_count": 4,
   "outputs": [
    {
     "data": {
      "text/plain": "            时间  期货简称   期货代码  月合约代码  合约乘数      报价单位  最小变动价位    开盘价    最高价  \\\n0   2022-01-04  棉花主连  CFZL2  CF205     5  元（人民币）/吨       5  20690  20780   \n1   2022-01-05  棉花主连  CFZL2  CF205     5  元（人民币）/吨       5  20740  21145   \n2   2022-01-06  棉花主连  CFZL2  CF205     5  元（人民币）/吨       5  21060  21105   \n3   2022-01-07  棉花主连  CFZL2  CF205     5  元（人民币）/吨       5  20950  21135   \n4   2022-01-10  棉花主连  CFZL2  CF205     5  元（人民币）/吨       5  21000  21195   \n..         ...   ...    ...    ...   ...       ...     ...    ...    ...   \n402 2023-08-30  棉花主连  CFZL2  CF401     5  元（人民币）/吨       5  17500  17630   \n403 2023-08-31  棉花主连  CFZL2  CF401     5  元（人民币）/吨       5  17590  17700   \n404 2023-09-01  棉花主连  CFZL2  CF401     5  元（人民币）/吨       5  17700  17905   \n405 2023-09-04  棉花主连  CFZL2  CF401     5  元（人民币）/吨       5  17890  17900   \n406 2023-09-05  棉花主连  CFZL2  CF401     5  元（人民币）/吨       5  17890  17900   \n\n       最低价  ...     持仓量  月合约代码_shift   前一日收盘价    切换日   复权系数_x    复权系数_y  \\\n0    20590  ...  435906          NaN      NaN  False      NaN       NaN   \n1    20700  ...  439247        CF205  20670.0  False      NaN       NaN   \n2    20855  ...  437177        CF205  21065.0  False      NaN       NaN   \n3    20905  ...  442532        CF205  20900.0  False      NaN       NaN   \n4    20965  ...  445534        CF205  21010.0  False      NaN       NaN   \n..     ...  ...     ...          ...      ...    ...      ...       ...   \n402  17485  ...  626480        CF401  17460.0  False  0.99104  1.038188   \n403  17530  ...  642207        CF401  17610.0  False  0.99104  1.038188   \n404  17670  ...  667264        CF401  17660.0  False  0.99104  1.038188   \n405  17345  ...  637956        CF401  17790.0  False  0.99104  1.038188   \n406  17345  ...  637956        CF401  17420.0  False  0.99104  1.038188   \n\n            复权开盘价         复权最高价         复权最低价         复权收盘价  \n0             NaN           NaN           NaN           NaN  \n1             NaN           NaN           NaN           NaN  \n2             NaN           NaN           NaN           NaN  \n3             NaN           NaN           NaN           NaN  \n4             NaN           NaN           NaN           NaN  \n..            ...           ...           ...           ...  \n402  18168.292374  18303.256832  18152.719552  18282.493069  \n403  18261.729307  18375.930001  18199.438018  18334.402476  \n404  18375.930001  18588.758569  18344.784357  18469.366934  \n405  18573.185747  18583.567629  18007.373213  18085.237324  \n406  18573.185747  18583.567629  18007.373213  18085.237324  \n\n[407 rows x 23 columns]",
      "text/html": "<div>\n<style scoped>\n    .dataframe tbody tr th:only-of-type {\n        vertical-align: middle;\n    }\n\n    .dataframe tbody tr th {\n        vertical-align: top;\n    }\n\n    .dataframe thead th {\n        text-align: right;\n    }\n</style>\n<table border=\"1\" class=\"dataframe\">\n  <thead>\n    <tr style=\"text-align: right;\">\n      <th></th>\n      <th>时间</th>\n      <th>期货简称</th>\n      <th>期货代码</th>\n      <th>月合约代码</th>\n      <th>合约乘数</th>\n      <th>报价单位</th>\n      <th>最小变动价位</th>\n      <th>开盘价</th>\n      <th>最高价</th>\n      <th>最低价</th>\n      <th>...</th>\n      <th>持仓量</th>\n      <th>月合约代码_shift</th>\n      <th>前一日收盘价</th>\n      <th>切换日</th>\n      <th>复权系数_x</th>\n      <th>复权系数_y</th>\n      <th>复权开盘价</th>\n      <th>复权最高价</th>\n      <th>复权最低价</th>\n      <th>复权收盘价</th>\n    </tr>\n  </thead>\n  <tbody>\n    <tr>\n      <th>0</th>\n      <td>2022-01-04</td>\n      <td>棉花主连</td>\n      <td>CFZL2</td>\n      <td>CF205</td>\n      <td>5</td>\n      <td>元（人民币）/吨</td>\n      <td>5</td>\n      <td>20690</td>\n      <td>20780</td>\n      <td>20590</td>\n      <td>...</td>\n      <td>435906</td>\n      <td>NaN</td>\n      <td>NaN</td>\n      <td>False</td>\n      <td>NaN</td>\n      <td>NaN</td>\n      <td>NaN</td>\n      <td>NaN</td>\n      <td>NaN</td>\n      <td>NaN</td>\n    </tr>\n    <tr>\n      <th>1</th>\n      <td>2022-01-05</td>\n      <td>棉花主连</td>\n      <td>CFZL2</td>\n      <td>CF205</td>\n      <td>5</td>\n      <td>元（人民币）/吨</td>\n      <td>5</td>\n      <td>20740</td>\n      <td>21145</td>\n      <td>20700</td>\n      <td>...</td>\n      <td>439247</td>\n      <td>CF205</td>\n      <td>20670.0</td>\n      <td>False</td>\n      <td>NaN</td>\n      <td>NaN</td>\n      <td>NaN</td>\n      <td>NaN</td>\n      <td>NaN</td>\n      <td>NaN</td>\n    </tr>\n    <tr>\n      <th>2</th>\n      <td>2022-01-06</td>\n      <td>棉花主连</td>\n      <td>CFZL2</td>\n      <td>CF205</td>\n      <td>5</td>\n      <td>元（人民币）/吨</td>\n      <td>5</td>\n      <td>21060</td>\n      <td>21105</td>\n      <td>20855</td>\n      <td>...</td>\n      <td>437177</td>\n      <td>CF205</td>\n      <td>21065.0</td>\n      <td>False</td>\n      <td>NaN</td>\n      <td>NaN</td>\n      <td>NaN</td>\n      <td>NaN</td>\n      <td>NaN</td>\n      <td>NaN</td>\n    </tr>\n    <tr>\n      <th>3</th>\n      <td>2022-01-07</td>\n      <td>棉花主连</td>\n      <td>CFZL2</td>\n      <td>CF205</td>\n      <td>5</td>\n      <td>元（人民币）/吨</td>\n      <td>5</td>\n      <td>20950</td>\n      <td>21135</td>\n      <td>20905</td>\n      <td>...</td>\n      <td>442532</td>\n      <td>CF205</td>\n      <td>20900.0</td>\n      <td>False</td>\n      <td>NaN</td>\n      <td>NaN</td>\n      <td>NaN</td>\n      <td>NaN</td>\n      <td>NaN</td>\n      <td>NaN</td>\n    </tr>\n    <tr>\n      <th>4</th>\n      <td>2022-01-10</td>\n      <td>棉花主连</td>\n      <td>CFZL2</td>\n      <td>CF205</td>\n      <td>5</td>\n      <td>元（人民币）/吨</td>\n      <td>5</td>\n      <td>21000</td>\n      <td>21195</td>\n      <td>20965</td>\n      <td>...</td>\n      <td>445534</td>\n      <td>CF205</td>\n      <td>21010.0</td>\n      <td>False</td>\n      <td>NaN</td>\n      <td>NaN</td>\n      <td>NaN</td>\n      <td>NaN</td>\n      <td>NaN</td>\n      <td>NaN</td>\n    </tr>\n    <tr>\n      <th>...</th>\n      <td>...</td>\n      <td>...</td>\n      <td>...</td>\n      <td>...</td>\n      <td>...</td>\n      <td>...</td>\n      <td>...</td>\n      <td>...</td>\n      <td>...</td>\n      <td>...</td>\n      <td>...</td>\n      <td>...</td>\n      <td>...</td>\n      <td>...</td>\n      <td>...</td>\n      <td>...</td>\n      <td>...</td>\n      <td>...</td>\n      <td>...</td>\n      <td>...</td>\n      <td>...</td>\n    </tr>\n    <tr>\n      <th>402</th>\n      <td>2023-08-30</td>\n      <td>棉花主连</td>\n      <td>CFZL2</td>\n      <td>CF401</td>\n      <td>5</td>\n      <td>元（人民币）/吨</td>\n      <td>5</td>\n      <td>17500</td>\n      <td>17630</td>\n      <td>17485</td>\n      <td>...</td>\n      <td>626480</td>\n      <td>CF401</td>\n      <td>17460.0</td>\n      <td>False</td>\n      <td>0.99104</td>\n      <td>1.038188</td>\n      <td>18168.292374</td>\n      <td>18303.256832</td>\n      <td>18152.719552</td>\n      <td>18282.493069</td>\n    </tr>\n    <tr>\n      <th>403</th>\n      <td>2023-08-31</td>\n      <td>棉花主连</td>\n      <td>CFZL2</td>\n      <td>CF401</td>\n      <td>5</td>\n      <td>元（人民币）/吨</td>\n      <td>5</td>\n      <td>17590</td>\n      <td>17700</td>\n      <td>17530</td>\n      <td>...</td>\n      <td>642207</td>\n      <td>CF401</td>\n      <td>17610.0</td>\n      <td>False</td>\n      <td>0.99104</td>\n      <td>1.038188</td>\n      <td>18261.729307</td>\n      <td>18375.930001</td>\n      <td>18199.438018</td>\n      <td>18334.402476</td>\n    </tr>\n    <tr>\n      <th>404</th>\n      <td>2023-09-01</td>\n      <td>棉花主连</td>\n      <td>CFZL2</td>\n      <td>CF401</td>\n      <td>5</td>\n      <td>元（人民币）/吨</td>\n      <td>5</td>\n      <td>17700</td>\n      <td>17905</td>\n      <td>17670</td>\n      <td>...</td>\n      <td>667264</td>\n      <td>CF401</td>\n      <td>17660.0</td>\n      <td>False</td>\n      <td>0.99104</td>\n      <td>1.038188</td>\n      <td>18375.930001</td>\n      <td>18588.758569</td>\n      <td>18344.784357</td>\n      <td>18469.366934</td>\n    </tr>\n    <tr>\n      <th>405</th>\n      <td>2023-09-04</td>\n      <td>棉花主连</td>\n      <td>CFZL2</td>\n      <td>CF401</td>\n      <td>5</td>\n      <td>元（人民币）/吨</td>\n      <td>5</td>\n      <td>17890</td>\n      <td>17900</td>\n      <td>17345</td>\n      <td>...</td>\n      <td>637956</td>\n      <td>CF401</td>\n      <td>17790.0</td>\n      <td>False</td>\n      <td>0.99104</td>\n      <td>1.038188</td>\n      <td>18573.185747</td>\n      <td>18583.567629</td>\n      <td>18007.373213</td>\n      <td>18085.237324</td>\n    </tr>\n    <tr>\n      <th>406</th>\n      <td>2023-09-05</td>\n      <td>棉花主连</td>\n      <td>CFZL2</td>\n      <td>CF401</td>\n      <td>5</td>\n      <td>元（人民币）/吨</td>\n      <td>5</td>\n      <td>17890</td>\n      <td>17900</td>\n      <td>17345</td>\n      <td>...</td>\n      <td>637956</td>\n      <td>CF401</td>\n      <td>17420.0</td>\n      <td>False</td>\n      <td>0.99104</td>\n      <td>1.038188</td>\n      <td>18573.185747</td>\n      <td>18583.567629</td>\n      <td>18007.373213</td>\n      <td>18085.237324</td>\n    </tr>\n  </tbody>\n</table>\n<p>407 rows × 23 columns</p>\n</div>"
     },
     "execution_count": 4,
     "metadata": {},
     "output_type": "execute_result"
    }
   ],
   "source": [
    "data"
   ],
   "metadata": {
    "collapsed": false,
    "ExecuteTime": {
     "end_time": "2023-09-27T06:16:42.211556900Z",
     "start_time": "2023-09-27T06:16:42.180269900Z"
    }
   },
   "id": "89d534e587905947"
  },
  {
   "cell_type": "code",
   "execution_count": null,
   "outputs": [],
   "source": [
    "import backtrader as bt  # 导入backtrader库\n",
    "\n",
    "# 定义策略类\n",
    "class MyStrategy(bt.Strategy):\n",
    "    # 定义策略参数\n",
    "    params = (\n",
    "        ('shortlengh', 5),  # 短期均线周期\n",
    "        ('longlengh', 30),  # 长期均线周期\n",
    "        ('risk', 0.02),  # 风险系数\n",
    "        ('backnumber', 3),  # 回溯周期\n",
    "        ('dd', 4),  # 前高前低和今日差值\n",
    "        ('ATR_n', 10),  # ATR周期\n",
    "    )\n",
    "\n",
    "    def __init__(self):\n",
    "        # 初始化指标\n",
    "        self.MA1 = bt.indicators.SimpleMovingAverage(self.data.close, period=self.params.shortlengh)  # 短期均线\n",
    "        self.MA2 = bt.indicators.SimpleMovingAverage(self.data.close, period=self.params.longlengh)  # 长期均线\n",
    "        self.ATR = bt.indicators.AverageTrueRange(self.data, period=self.params.ATR_n)  # ATR指标\n",
    "        self.arr_high = []  # 阻力位列表\n",
    "        self.arr_low = []  # 支撑位列表\n",
    "\n",
    "    def next(self):\n",
    "        # 计算交易单位\n",
    "        size = self.broker.getcash() * self.params.risk / (self.ATR[0] * self.data._name)\n",
    "\n",
    "        # 如果满足买入条件，则买入\n",
    "        if len(self.arr_high) > 0 and self.MA1[0] > self.MA2[0] and self.data.high[0] >= self.arr_high[0] and self.data.high[-1] < self.arr_high[0]:\n",
    "            self.buy(size=size)\n",
    "\n",
    "        # 如果满足卖出条件，则卖出\n",
    "        if len(self.arr_low) > 0 and self.MA1[0] < self.MA2[0] and self.data.low[0] <= self.arr_low[0] and self.data.low[-1] > self.arr_low[0]:\n",
    "            self.sell(size=size)\n",
    "\n",
    "        # 如果有持仓，检查是否需要止损\n",
    "        if self.position:\n",
    "            if self.position.size > 0 and self.data.low[0] <= self.highest[-1] - self.params.backnumber * self.ATR[0]:\n",
    "                self.sell()\n",
    "\n",
    "            if self.position.size < 0 and self.data.high[0] >= self.lowest[-1] + self.params.backnumber * self.ATR[0]:\n",
    "                self.buy()\n",
    "\n",
    "        # 如果数据足够，计算阻力位和支撑位\n",
    "        if len(self) >= self.params.longlengh + self.params.dd:\n",
    "            if self.data.high[-self.params.dd] == max(self.data.high.get(-self.params.dd-4, -self.params.dd+5)):\n",
    "                self.arr_high.insert(0, self.data.high[-self.params.dd] * 0.99)\n",
    "\n",
    "            if self.data.low[-self.params.dd] == min(self.data.low.get(-self.params.dd-4, -self.params.dd+5)):\n",
    "                self.arr_low.insert(0, self.data.low[-self.params.dd] * 1.01)\n",
    "\n",
    "# 创建Cerebro引擎\n",
    "cerebro = bt.Cerebro()\n",
    "\n",
    "# 添加数据\n",
    "data = bt.feeds.YourDataFeed(dataname='your_data')\n",
    "cerebro.adddata(data)\n",
    "\n",
    "# 添加策略\n",
    "cerebro.addstrategy(MyStrategy)\n",
    "\n",
    "# 运行策略\n",
    "cerebro.run()"
   ],
   "metadata": {
    "collapsed": false
   },
   "id": "84acdaac5593bad3"
  }
 ],
 "metadata": {
  "kernelspec": {
   "display_name": "Python 3",
   "language": "python",
   "name": "python3"
  },
  "language_info": {
   "codemirror_mode": {
    "name": "ipython",
    "version": 2
   },
   "file_extension": ".py",
   "mimetype": "text/x-python",
   "name": "python",
   "nbconvert_exporter": "python",
   "pygments_lexer": "ipython2",
   "version": "2.7.6"
  }
 },
 "nbformat": 4,
 "nbformat_minor": 5
}
