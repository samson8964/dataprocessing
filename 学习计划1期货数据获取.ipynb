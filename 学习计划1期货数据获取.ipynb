{
 "cells": [
  {
   "cell_type": "code",
   "execution_count": null,
   "id": "initial_id",
   "metadata": {
    "collapsed": true
   },
   "outputs": [],
   "source": [
    "import pandas as pd\n",
    "from iFinDPy import *\n"
   ]
  },
  {
   "cell_type": "code",
   "execution_count": null,
   "outputs": [],
   "source": [
    "THS_iFinDLogin('dmzb026', '923035')"
   ],
   "metadata": {
    "collapsed": false
   },
   "id": "88e0b415084ee428"
  },
  {
   "cell_type": "code",
   "execution_count": null,
   "outputs": [],
   "source": [
    "data = THS_DS(\n",
    "    'AGZL.SHF,ALZL.SHF,APZL.CZC,BUZL.SHF,CFZL.CZC,CZL.DCE,EBZL.DCE,EGZL.DCE,FGZL.CZC,FUZL.SHF,HCZL.SHF,LZL.DCE,MAZL.CZC,MZL.DCE,OIZL.CZC,PGZL.DCE,PPZL.DCE,PZL.DCE,RBZL.SHF,RMZL.CZC,SAZL.CZC,SFZL.CZC,SMZL.CZC,SPZL.SHF,TAZL.CZC,URZL.CZC,VZL.DCE,YZL.DCE,ZNZL.SHF',\n",
    "    'ths_future_short_name_future;ths_future_code_future;ths_month_contract_code_future;ths_contract_multiplier_product_future;ths_pricing_unit_future;ths_mini_chg_price_future;ths_open_price_future;ths_high_price_future;ths_low_future;ths_close_price_future;ths_settle_future;ths_vol_future;ths_open_interest_future',\n",
    "    ';;;;;;;;;;;;', '', '2023-09-06', '2023-09-08', 'format:dataframe')"
   ],
   "metadata": {
    "collapsed": false
   },
   "id": "425859b5ac34306"
  },
  {
   "cell_type": "code",
   "execution_count": null,
   "outputs": [],
   "source": [
    "df1 = pd.DataFrame(data.data)"
   ],
   "metadata": {
    "collapsed": false
   },
   "id": "9bb9350ec6bce976"
  },
  {
   "cell_type": "code",
   "execution_count": null,
   "outputs": [],
   "source": [
    "df1"
   ],
   "metadata": {
    "collapsed": false
   },
   "id": "3e065e05b7ef6521"
  },
  {
   "cell_type": "code",
   "execution_count": null,
   "outputs": [],
   "source": [
    "data.perf"
   ],
   "metadata": {
    "collapsed": false
   },
   "id": "1b41db21dedb45ad"
  },
  {
   "cell_type": "code",
   "execution_count": null,
   "outputs": [],
   "source": [
    "df1 = data.data"
   ],
   "metadata": {
    "collapsed": false
   },
   "id": "33d964be7e172b41"
  },
  {
   "cell_type": "code",
   "execution_count": null,
   "outputs": [],
   "source": [
    "df1"
   ],
   "metadata": {
    "collapsed": false
   },
   "id": "df1311a1ee5eeb87"
  },
  {
   "cell_type": "code",
   "execution_count": null,
   "outputs": [],
   "source": [
    "df1.set_index('time')"
   ],
   "metadata": {
    "collapsed": false
   },
   "id": "2cbe5fd9794aad1c"
  },
  {
   "cell_type": "code",
   "execution_count": null,
   "outputs": [],
   "source": [
    "type(df1.index)"
   ],
   "metadata": {
    "collapsed": false
   },
   "id": "c9bca260e39bf9f3"
  },
  {
   "cell_type": "code",
   "execution_count": null,
   "outputs": [],
   "source": [
    "df1.index = pd.to_datetime(df1.index, format='%Y-%m-%d')"
   ],
   "metadata": {
    "collapsed": false
   },
   "id": "fc2bf951717d6c72"
  },
  {
   "cell_type": "code",
   "execution_count": null,
   "outputs": [],
   "source": [
    "df1.head()"
   ],
   "metadata": {
    "collapsed": false
   },
   "id": "f2da79acceedb3fa"
  },
  {
   "cell_type": "code",
   "execution_count": null,
   "outputs": [],
   "source": [],
   "metadata": {
    "collapsed": false
   },
   "id": "5702aaa6bfdfc371"
  }
 ],
 "metadata": {
  "kernelspec": {
   "display_name": "Python 3",
   "language": "python",
   "name": "python3"
  },
  "language_info": {
   "codemirror_mode": {
    "name": "ipython",
    "version": 2
   },
   "file_extension": ".py",
   "mimetype": "text/x-python",
   "name": "python",
   "nbconvert_exporter": "python",
   "pygments_lexer": "ipython2",
   "version": "2.7.6"
  }
 },
 "nbformat": 4,
 "nbformat_minor": 5
}
