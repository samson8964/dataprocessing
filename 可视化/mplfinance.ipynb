{
 "cells": [
  {
   "cell_type": "code",
   "execution_count": 1,
   "id": "initial_id",
   "metadata": {
    "collapsed": true,
    "ExecuteTime": {
     "end_time": "2023-09-20T14:01:44.699715200Z",
     "start_time": "2023-09-20T14:01:42.744355100Z"
    }
   },
   "outputs": [
    {
     "name": "stderr",
     "output_type": "stream",
     "text": [
      "D:\\Anaconda\\lib\\site-packages\\pandas\\core\\arrays\\masked.py:62: UserWarning: Pandas requires version '1.3.4' or newer of 'bottleneck' (version '1.3.2' currently installed).\n",
      "  from pandas.core import (\n"
     ]
    }
   ],
   "source": [
    "import pandas as pd\n",
    "import datetime\n",
    "import numpy as py\n",
    "import mplfinance as mpf\n",
    "from matplotlib import pyplot as plt\n"
   ]
  },
  {
   "cell_type": "code",
   "execution_count": 15,
   "outputs": [],
   "source": [
    "datebase = pd.read_excel('../复权后品种行情数据/生猪主连_2022-01-04_to_2023-09-05后复权数据.xlsx',index_col=[0],usecols=[\n",
    "    '时间','期货简称','复权开盘价','复权最高价','复权最低价','复权收盘价','成交量','复权系数_y'])"
   ],
   "metadata": {
    "collapsed": false,
    "ExecuteTime": {
     "end_time": "2023-09-20T14:11:14.584492100Z",
     "start_time": "2023-09-20T14:11:14.438359700Z"
    }
   },
   "id": "4555b97b2b0fd37c"
  },
  {
   "cell_type": "code",
   "execution_count": 20,
   "outputs": [
    {
     "data": {
      "text/plain": "            期货简称  复权开盘价  复权最高价  复权最低价  复权收盘价  成交量  复权系数_y\n时间                                                       \n2022-01-04  生猪主连  18689    NaN    NaN    NaN  NaN     NaN\n2022-01-05  生猪主连  18262    NaN    NaN    NaN  NaN     NaN\n2022-01-06  生猪主连  16827    NaN    NaN    NaN  NaN     NaN\n2022-01-07  生猪主连  18113    NaN    NaN    NaN  NaN     NaN\n2022-01-10  生猪主连  28893    NaN    NaN    NaN  NaN     NaN",
      "text/html": "<div>\n<style scoped>\n    .dataframe tbody tr th:only-of-type {\n        vertical-align: middle;\n    }\n\n    .dataframe tbody tr th {\n        vertical-align: top;\n    }\n\n    .dataframe thead th {\n        text-align: right;\n    }\n</style>\n<table border=\"1\" class=\"dataframe\">\n  <thead>\n    <tr style=\"text-align: right;\">\n      <th></th>\n      <th>期货简称</th>\n      <th>复权开盘价</th>\n      <th>复权最高价</th>\n      <th>复权最低价</th>\n      <th>复权收盘价</th>\n      <th>成交量</th>\n      <th>复权系数_y</th>\n    </tr>\n    <tr>\n      <th>时间</th>\n      <th></th>\n      <th></th>\n      <th></th>\n      <th></th>\n      <th></th>\n      <th></th>\n      <th></th>\n    </tr>\n  </thead>\n  <tbody>\n    <tr>\n      <th>2022-01-04</th>\n      <td>生猪主连</td>\n      <td>18689</td>\n      <td>NaN</td>\n      <td>NaN</td>\n      <td>NaN</td>\n      <td>NaN</td>\n      <td>NaN</td>\n    </tr>\n    <tr>\n      <th>2022-01-05</th>\n      <td>生猪主连</td>\n      <td>18262</td>\n      <td>NaN</td>\n      <td>NaN</td>\n      <td>NaN</td>\n      <td>NaN</td>\n      <td>NaN</td>\n    </tr>\n    <tr>\n      <th>2022-01-06</th>\n      <td>生猪主连</td>\n      <td>16827</td>\n      <td>NaN</td>\n      <td>NaN</td>\n      <td>NaN</td>\n      <td>NaN</td>\n      <td>NaN</td>\n    </tr>\n    <tr>\n      <th>2022-01-07</th>\n      <td>生猪主连</td>\n      <td>18113</td>\n      <td>NaN</td>\n      <td>NaN</td>\n      <td>NaN</td>\n      <td>NaN</td>\n      <td>NaN</td>\n    </tr>\n    <tr>\n      <th>2022-01-10</th>\n      <td>生猪主连</td>\n      <td>28893</td>\n      <td>NaN</td>\n      <td>NaN</td>\n      <td>NaN</td>\n      <td>NaN</td>\n      <td>NaN</td>\n    </tr>\n  </tbody>\n</table>\n</div>"
     },
     "execution_count": 20,
     "metadata": {},
     "output_type": "execute_result"
    }
   ],
   "source": [
    "datebase.columns =['期货简称','复权开盘价','复权最高价','复权最低价','复权收盘价','成交量','复权系数_y']\n",
    "datebase.head()"
   ],
   "metadata": {
    "collapsed": false,
    "ExecuteTime": {
     "end_time": "2023-09-20T14:18:10.608884300Z",
     "start_time": "2023-09-20T14:18:10.593118500Z"
    }
   },
   "id": "1dc172bfac0380a1"
  },
  {
   "cell_type": "code",
   "execution_count": 17,
   "outputs": [
    {
     "data": {
      "text/plain": "pandas.core.indexes.datetimes.DatetimeIndex"
     },
     "execution_count": 17,
     "metadata": {},
     "output_type": "execute_result"
    }
   ],
   "source": [
    "type(datebase.index)"
   ],
   "metadata": {
    "collapsed": false,
    "ExecuteTime": {
     "end_time": "2023-09-20T14:11:56.578957300Z",
     "start_time": "2023-09-20T14:11:56.540926800Z"
    }
   },
   "id": "9a6d70f8729f2525"
  },
  {
   "cell_type": "code",
   "execution_count": 22,
   "outputs": [],
   "source": [
    "datebase.rename(columns={'期货简称':'name','复权开盘价':'open','复权最高价':'high','复权最低价':'low','复权收盘价':'close','成交量':'volume','复权系数_y':'adjust'},inplace=True)"
   ],
   "metadata": {
    "collapsed": false,
    "ExecuteTime": {
     "end_time": "2023-09-20T14:23:13.561887600Z",
     "start_time": "2023-09-20T14:23:13.541870900Z"
    }
   },
   "id": "56e0e2f0077fbbd0"
  },
  {
   "cell_type": "code",
   "execution_count": 23,
   "outputs": [
    {
     "data": {
      "text/plain": "            name   open  high  low  close  volume  adjust\n时间                                                       \n2022-01-04  生猪主连  18689   NaN  NaN    NaN     NaN     NaN\n2022-01-05  生猪主连  18262   NaN  NaN    NaN     NaN     NaN\n2022-01-06  生猪主连  16827   NaN  NaN    NaN     NaN     NaN\n2022-01-07  生猪主连  18113   NaN  NaN    NaN     NaN     NaN\n2022-01-10  生猪主连  28893   NaN  NaN    NaN     NaN     NaN",
      "text/html": "<div>\n<style scoped>\n    .dataframe tbody tr th:only-of-type {\n        vertical-align: middle;\n    }\n\n    .dataframe tbody tr th {\n        vertical-align: top;\n    }\n\n    .dataframe thead th {\n        text-align: right;\n    }\n</style>\n<table border=\"1\" class=\"dataframe\">\n  <thead>\n    <tr style=\"text-align: right;\">\n      <th></th>\n      <th>name</th>\n      <th>open</th>\n      <th>high</th>\n      <th>low</th>\n      <th>close</th>\n      <th>volume</th>\n      <th>adjust</th>\n    </tr>\n    <tr>\n      <th>时间</th>\n      <th></th>\n      <th></th>\n      <th></th>\n      <th></th>\n      <th></th>\n      <th></th>\n      <th></th>\n    </tr>\n  </thead>\n  <tbody>\n    <tr>\n      <th>2022-01-04</th>\n      <td>生猪主连</td>\n      <td>18689</td>\n      <td>NaN</td>\n      <td>NaN</td>\n      <td>NaN</td>\n      <td>NaN</td>\n      <td>NaN</td>\n    </tr>\n    <tr>\n      <th>2022-01-05</th>\n      <td>生猪主连</td>\n      <td>18262</td>\n      <td>NaN</td>\n      <td>NaN</td>\n      <td>NaN</td>\n      <td>NaN</td>\n      <td>NaN</td>\n    </tr>\n    <tr>\n      <th>2022-01-06</th>\n      <td>生猪主连</td>\n      <td>16827</td>\n      <td>NaN</td>\n      <td>NaN</td>\n      <td>NaN</td>\n      <td>NaN</td>\n      <td>NaN</td>\n    </tr>\n    <tr>\n      <th>2022-01-07</th>\n      <td>生猪主连</td>\n      <td>18113</td>\n      <td>NaN</td>\n      <td>NaN</td>\n      <td>NaN</td>\n      <td>NaN</td>\n      <td>NaN</td>\n    </tr>\n    <tr>\n      <th>2022-01-10</th>\n      <td>生猪主连</td>\n      <td>28893</td>\n      <td>NaN</td>\n      <td>NaN</td>\n      <td>NaN</td>\n      <td>NaN</td>\n      <td>NaN</td>\n    </tr>\n  </tbody>\n</table>\n</div>"
     },
     "execution_count": 23,
     "metadata": {},
     "output_type": "execute_result"
    }
   ],
   "source": [
    "datebase.head()"
   ],
   "metadata": {
    "collapsed": false,
    "ExecuteTime": {
     "end_time": "2023-09-20T14:23:19.379758100Z",
     "start_time": "2023-09-20T14:23:19.339723800Z"
    }
   },
   "id": "92de558892c5761c"
  },
  {
   "cell_type": "code",
   "execution_count": 25,
   "outputs": [],
   "source": [
    "datebase.dropna(inplace=True)"
   ],
   "metadata": {
    "collapsed": false,
    "ExecuteTime": {
     "end_time": "2023-09-20T14:23:43.536252200Z",
     "start_time": "2023-09-20T14:23:43.501221700Z"
    }
   },
   "id": "3a82ebbafcf41d2"
  },
  {
   "cell_type": "code",
   "execution_count": 26,
   "outputs": [
    {
     "name": "stdout",
     "output_type": "stream",
     "text": [
      "<class 'pandas.core.frame.DataFrame'>\n",
      "DatetimeIndex: 387 entries, 2022-02-08 to 2023-09-05\n",
      "Data columns (total 7 columns):\n",
      " #   Column  Non-Null Count  Dtype  \n",
      "---  ------  --------------  -----  \n",
      " 0   name    387 non-null    object \n",
      " 1   open    387 non-null    int64  \n",
      " 2   high    387 non-null    float64\n",
      " 3   low     387 non-null    float64\n",
      " 4   close   387 non-null    float64\n",
      " 5   volume  387 non-null    float64\n",
      " 6   adjust  387 non-null    float64\n",
      "dtypes: float64(5), int64(1), object(1)\n",
      "memory usage: 24.2+ KB\n"
     ]
    }
   ],
   "source": [
    "datebase.info()"
   ],
   "metadata": {
    "collapsed": false,
    "ExecuteTime": {
     "end_time": "2023-09-20T14:23:55.788414500Z",
     "start_time": "2023-09-20T14:23:55.743374100Z"
    }
   },
   "id": "36f5a61816ae7d07"
  },
  {
   "cell_type": "code",
   "execution_count": null,
   "outputs": [],
   "source": [],
   "metadata": {
    "collapsed": false
   },
   "id": "610d2b4daff396fa"
  }
 ],
 "metadata": {
  "kernelspec": {
   "display_name": "Python 3",
   "language": "python",
   "name": "python3"
  },
  "language_info": {
   "codemirror_mode": {
    "name": "ipython",
    "version": 2
   },
   "file_extension": ".py",
   "mimetype": "text/x-python",
   "name": "python",
   "nbconvert_exporter": "python",
   "pygments_lexer": "ipython2",
   "version": "2.7.6"
  }
 },
 "nbformat": 4,
 "nbformat_minor": 5
}
