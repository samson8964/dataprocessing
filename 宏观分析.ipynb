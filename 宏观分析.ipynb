{
 "cells": [
  {
   "cell_type": "code",
   "execution_count": 2,
   "outputs": [
    {
     "name": "stdout",
     "output_type": "stream",
     "text": [
      "南华商品指数月涨跌幅大于5%：False\n",
      "沪深中债当月波动大于平均每月波动一倍标准差：True\n",
      "金融机构:人民币贷款余额:同比的均值为12.86，标准差为1.12，当前值为10.8\n",
      "CPI:当月同比的均值为1.79，标准差为1.05，当前值为-0.5\n"
     ]
    },
    {
     "name": "stderr",
     "output_type": "stream",
     "text": [
      "C:\\Users\\67519\\AppData\\Local\\Temp/ipykernel_1780/731484419.py:8: FutureWarning: Series.__getitem__ treating keys as positions is deprecated. In a future version, integer keys will always be treated as labels (consistent with DataFrame behavior). To access a value by position, use `ser.iloc[pos]`\n",
      "  print('南华商品指数月涨跌幅大于5%：' + str(nh[0] > 0.05))\n",
      "C:\\Users\\67519\\AppData\\Local\\Temp/ipykernel_1780/731484419.py:13: FutureWarning: Series.__getitem__ treating keys as positions is deprecated. In a future version, integer keys will always be treated as labels (consistent with DataFrame behavior). To access a value by position, use `ser.iloc[pos]`\n",
      "  hszz = monthly_volatility['沪深300指数'][0] > avg_monthly_volatility['沪深300指数'] or \\\n",
      "C:\\Users\\67519\\AppData\\Local\\Temp/ipykernel_1780/731484419.py:14: FutureWarning: Series.__getitem__ treating keys as positions is deprecated. In a future version, integer keys will always be treated as labels (consistent with DataFrame behavior). To access a value by position, use `ser.iloc[pos]`\n",
      "  monthly_volatility['中债综合指数(总值)财富指数'][0] > avg_monthly_volatility['中债综合指数(总值)财富指数']\n"
     ]
    },
    {
     "data": {
      "text/plain": "(['金融机构:人民币贷款余额:同比', 'CPI:当月同比'], 2)"
     },
     "execution_count": 2,
     "metadata": {},
     "output_type": "execute_result"
    }
   ],
   "source": [
    "import pandas as pd\n",
    "\n",
    "data2 = pd.read_excel(r'C:\\Users\\67519\\Documents\\ifind数据\\资产价格_20231230_101953.xlsx', index_col=0,\n",
    "                      parse_dates=True)\n",
    "monthly_first = data2['南华期货:商品指数'].resample('M').first().sort_index(ascending=False)\n",
    "monthly_last = data2['南华期货:商品指数'].resample('M').last().sort_index(ascending=False)\n",
    "nh = abs(1 - (monthly_first / monthly_last))\n",
    "print('南华商品指数月涨跌幅大于5%：' + str(nh[0] > 0.05))\n",
    "\n",
    "monthly_volatility = data2[['沪深300指数', '中债综合指数(总值)财富指数']].resample('M').std(ddof=1)\n",
    "monthly_volatility = monthly_volatility.sort_index(ascending=False)\n",
    "avg_monthly_volatility = monthly_volatility.mean()\n",
    "hszz = monthly_volatility['沪深300指数'][0] > avg_monthly_volatility['沪深300指数'] or \\\n",
    "       monthly_volatility['中债综合指数(总值)财富指数'][0] > avg_monthly_volatility['中债综合指数(总值)财富指数']\n",
    "print('沪深中债当月波动大于平均每月波动一倍标准差：' + str(hszz))\n",
    "\n",
    "data = pd.read_excel(r'C:\\Users\\67519\\Documents\\ifind数据\\宏观择时数据_20231230_102949.xlsx',\n",
    "                     index_col=0, parse_dates=True)\n",
    "out_of_range_count = []\n",
    "\n",
    "# 对每个指标进行分析\n",
    "for column in ['规模以上工业增加值:当月同比', '固定资产投资(不含农户)完成额:累计同比', '社会融资规模增量:当月值:同比',\n",
    "               '进出口差额(美元计价):当月同比', 'M2(货币和准货币):同比', '金融机构:人民币贷款余额:同比',\n",
    "               '金融机构:新增人民币贷款:中长期贷款:当月值:同比', 'CPI:当月同比', 'PPI:当月同比']:\n",
    "    # 计算滚动十年均值和标准差\n",
    "    rolling_mean = data[column].mean()\n",
    "    rolling_std = data[column].std()\n",
    "\n",
    "    # 获取当前月数据\n",
    "    current_value = data[column].iloc[0]\n",
    "\n",
    "    # 检查当前月数据是否在均值±1倍标准差范围之外\n",
    "    if current_value < rolling_mean - rolling_std or current_value > rolling_mean + rolling_std:\n",
    "        out_of_range_count.append(column)\n",
    "        print(\n",
    "            f'{column}的均值为{round(rolling_mean, 2)}，标准差为{round(rolling_std, 2)}，当前值为{round(current_value, 3)}')\n",
    "\n",
    "out_of_range_count, len(out_of_range_count)"
   ],
   "metadata": {
    "collapsed": false,
    "ExecuteTime": {
     "end_time": "2023-12-30T02:33:04.535576600Z",
     "start_time": "2023-12-30T02:33:04.280815500Z"
    }
   },
   "id": "8d6b06cdd148735"
  },
  {
   "cell_type": "code",
   "execution_count": 6,
   "outputs": [
    {
     "data": {
      "text/plain": "指标名称\n2023-12-31     49.795725\n2023-11-30     39.182699\n2023-10-31     74.705704\n2023-09-30     46.946269\n2023-08-31    110.457102\n                 ...    \n2014-04-30     40.614420\n2014-03-31     29.283147\n2014-02-28     57.087800\n2014-01-31     35.240983\n2013-12-31     21.614840\nFreq: -1M, Name: 沪深300指数, Length: 121, dtype: float64"
     },
     "execution_count": 6,
     "metadata": {},
     "output_type": "execute_result"
    }
   ],
   "source": [
    "monthly_volatility['沪深300指数']"
   ],
   "metadata": {
    "collapsed": false,
    "ExecuteTime": {
     "end_time": "2023-12-30T02:38:55.358719600Z",
     "start_time": "2023-12-30T02:38:55.312070500Z"
    }
   },
   "id": "1e6471b457b4946d"
  },
  {
   "cell_type": "code",
   "outputs": [
    {
     "data": {
      "text/plain": "指标名称\n2023-12-31    0.828782\n2023-11-30    0.301507\n2023-10-31    0.195319\n2023-09-30    0.217594\n2023-08-31    0.576102\n                ...   \n2014-04-30    0.603254\n2014-03-31    0.136586\n2014-02-28    0.689221\n2014-01-31    0.567153\n2013-12-31    0.010182\nFreq: -1M, Name: 中债综合指数(总值)财富指数, Length: 121, dtype: float64"
     },
     "execution_count": 7,
     "metadata": {},
     "output_type": "execute_result"
    }
   ],
   "source": [
    "monthly_volatility['中债综合指数(总值)财富指数']"
   ],
   "metadata": {
    "collapsed": false,
    "ExecuteTime": {
     "end_time": "2023-12-30T02:39:11.600874300Z",
     "start_time": "2023-12-30T02:39:11.555807400Z"
    }
   },
   "id": "adcd98120346c287",
   "execution_count": 7
  },
  {
   "cell_type": "code",
   "outputs": [
    {
     "data": {
      "text/plain": "沪深300指数           79.42738\n中债综合指数(总值)财富指数     0.38307\ndtype: float64"
     },
     "execution_count": 18,
     "metadata": {},
     "output_type": "execute_result"
    }
   ],
   "source": [
    "avg_monthly_volatility"
   ],
   "metadata": {
    "collapsed": false,
    "ExecuteTime": {
     "end_time": "2023-12-30T03:53:27.782683800Z",
     "start_time": "2023-12-30T03:53:27.750131500Z"
    }
   },
   "id": "790a98ce090cdf3c",
   "execution_count": 18
  },
  {
   "cell_type": "code",
   "outputs": [],
   "source": [
    "d = abs(1 - (monthly_first / monthly_last)) > 0.05"
   ],
   "metadata": {
    "collapsed": false,
    "ExecuteTime": {
     "end_time": "2023-12-30T03:17:00.965646400Z",
     "start_time": "2023-12-30T03:17:00.882698Z"
    }
   },
   "id": "5dffd1ce22452cf3",
   "execution_count": 13
  },
  {
   "cell_type": "code",
   "outputs": [
    {
     "data": {
      "text/plain": "pandas.core.series.Series"
     },
     "execution_count": 15,
     "metadata": {},
     "output_type": "execute_result"
    }
   ],
   "source": [
    "type(d)"
   ],
   "metadata": {
    "collapsed": false,
    "ExecuteTime": {
     "end_time": "2023-12-30T03:17:55.860201100Z",
     "start_time": "2023-12-30T03:17:55.776748800Z"
    }
   },
   "id": "297e1678e5bc4255",
   "execution_count": 15
  },
  {
   "cell_type": "code",
   "outputs": [
    {
     "data": {
      "text/plain": "指标名称\n2023-06-30    True\n2022-10-31    True\n2022-06-30    True\n2022-03-31    True\n2022-01-31    True\n2021-09-30    True\n2021-04-30    True\n2021-02-28    True\n2020-12-31    True\n2020-11-30    True\n2020-09-30    True\n2020-03-31    True\n2019-01-31    True\n2018-11-30    True\n2018-03-31    True\n2017-11-30    True\n2017-09-30    True\n2017-08-31    True\n2017-07-31    True\n2017-06-30    True\n2017-05-31    True\n2017-03-31    True\n2017-01-31    True\n2016-11-30    True\n2016-10-31    True\n2016-06-30    True\n2016-05-31    True\n2016-04-30    True\n2015-07-31    True\n2015-06-30    True\nName: 南华期货:商品指数, dtype: bool"
     },
     "execution_count": 17,
     "metadata": {},
     "output_type": "execute_result"
    }
   ],
   "source": [
    "d[d == True]"
   ],
   "metadata": {
    "collapsed": false,
    "ExecuteTime": {
     "end_time": "2023-12-30T03:20:02.868708600Z",
     "start_time": "2023-12-30T03:20:02.798648600Z"
    }
   },
   "id": "5d7a8462a9b2ab47",
   "execution_count": 17
  },
  {
   "cell_type": "code",
   "outputs": [],
   "source": [],
   "metadata": {
    "collapsed": false
   },
   "id": "70599dad3eff043e"
  }
 ],
 "metadata": {
  "kernelspec": {
   "display_name": "Python 3",
   "language": "python",
   "name": "python3"
  },
  "language_info": {
   "codemirror_mode": {
    "name": "ipython",
    "version": 2
   },
   "file_extension": ".py",
   "mimetype": "text/x-python",
   "name": "python",
   "nbconvert_exporter": "python",
   "pygments_lexer": "ipython2",
   "version": "2.7.6"
  }
 },
 "nbformat": 4,
 "nbformat_minor": 5
}
