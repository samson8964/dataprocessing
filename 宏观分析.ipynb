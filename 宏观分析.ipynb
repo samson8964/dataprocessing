{
 "cells": [
  {
   "cell_type": "code",
   "execution_count": 81,
   "outputs": [
    {
     "name": "stdout",
     "output_type": "stream",
     "text": [
      "南华商品指数月涨跌幅大于5%：False\n",
      "沪深中债当月波动大于平均每月波动一倍标准差：False\n",
      "社会融资规模增量:当月值:同比的均值为15.5，标准差为55.49，当前值为102.014\n",
      "金融机构:人民币贷款余额:同比的均值为12.89，标准差为1.11，当前值为10.9\n",
      "CPI:当月同比的均值为1.81，标准差为1.03，当前值为-0.2\n"
     ]
    },
    {
     "name": "stderr",
     "output_type": "stream",
     "text": [
      "C:\\Users\\67519\\AppData\\Local\\Temp/ipykernel_6548/2459024732.py:8: FutureWarning: Series.__getitem__ treating keys as positions is deprecated. In a future version, integer keys will always be treated as labels (consistent with DataFrame behavior). To access a value by position, use `ser.iloc[pos]`\n",
      "  print('南华商品指数月涨跌幅大于5%：'+str(nh[0] > 0.05))\n",
      "C:\\Users\\67519\\AppData\\Local\\Temp/ipykernel_6548/2459024732.py:13: FutureWarning: Series.__getitem__ treating keys as positions is deprecated. In a future version, integer keys will always be treated as labels (consistent with DataFrame behavior). To access a value by position, use `ser.iloc[pos]`\n",
      "  hszz=monthly_volatility['沪深300指数'][0] > avg_monthly_volatility['沪深300指数'] or \\\n",
      "C:\\Users\\67519\\AppData\\Local\\Temp/ipykernel_6548/2459024732.py:14: FutureWarning: Series.__getitem__ treating keys as positions is deprecated. In a future version, integer keys will always be treated as labels (consistent with DataFrame behavior). To access a value by position, use `ser.iloc[pos]`\n",
      "  monthly_volatility['中债综合指数(总值)财富指数'][0] > avg_monthly_volatility['中债综合指数(总值)财富指数']\n"
     ]
    },
    {
     "data": {
      "text/plain": "(['社会融资规模增量:当月值:同比', '金融机构:人民币贷款余额:同比', 'CPI:当月同比'], 3)"
     },
     "execution_count": 81,
     "metadata": {},
     "output_type": "execute_result"
    }
   ],
   "source": [
    "import pandas as pd\n",
    "\n",
    "data2 = pd.read_excel(r'C:\\Users\\67519\\DataspellProjects\\dataprocessing\\宏观数据\\资产价格2311.xlsx', index_col=0,\n",
    "                      parse_dates=True)\n",
    "monthly_first = data2['南华期货:商品指数'].resample('M').first().sort_index(ascending=False)\n",
    "monthly_last = data2['南华期货:商品指数'].resample('M').last().sort_index(ascending=False)\n",
    "nh = abs(1 - (monthly_first / monthly_last))\n",
    "print('南华商品指数月涨跌幅大于5%：' + str(nh[0] > 0.05))\n",
    "\n",
    "monthly_volatility = data2[['沪深300指数', '中债综合指数(总值)财富指数']].resample('M').std(ddof=1)\n",
    "monthly_volatility = monthly_volatility.sort_index(ascending=False)\n",
    "avg_monthly_volatility = monthly_volatility.mean()\n",
    "hszz = monthly_volatility['沪深300指数'][0] > avg_monthly_volatility['沪深300指数'] or \\\n",
    "       monthly_volatility['中债综合指数(总值)财富指数'][0] > avg_monthly_volatility['中债综合指数(总值)财富指数']\n",
    "print('沪深中债当月波动大于平均每月波动一倍标准差：' + str(hszz))\n",
    "\n",
    "data = pd.read_excel(r'C:\\Users\\67519\\DataspellProjects\\dataprocessing\\宏观数据\\宏观择时数据2311.xlsx',\n",
    "                     index_col=0, parse_dates=True)\n",
    "out_of_range_count = []\n",
    "\n",
    "# 对每个指标进行分析\n",
    "for column in ['规模以上工业增加值:当月同比', '固定资产投资(不含农户)完成额:累计同比', '社会融资规模增量:当月值:同比',\n",
    "               '进出口差额(美元计价):当月同比', 'M2(货币和准货币):同比', '金融机构:人民币贷款余额:同比',\n",
    "               '金融机构:新增人民币贷款:中长期贷款:当月值:同比', 'CPI:当月同比', 'PPI:当月同比']:\n",
    "    # 计算滚动十年均值和标准差\n",
    "    rolling_mean = data[column].mean()\n",
    "    rolling_std = data[column].std()\n",
    "\n",
    "    # 获取当前月数据\n",
    "    current_value = data[column].iloc[0]\n",
    "\n",
    "    # 检查当前月数据是否在均值±1倍标准差范围之外\n",
    "    if current_value < rolling_mean - rolling_std or current_value > rolling_mean + rolling_std:\n",
    "        out_of_range_count.append(column)\n",
    "        print(\n",
    "            f'{column}的均值为{round(rolling_mean, 2)}，标准差为{round(rolling_std, 2)}，当前值为{round(current_value, 3)}')\n",
    "\n",
    "out_of_range_count, len(out_of_range_count)"
   ],
   "metadata": {
    "collapsed": false,
    "ExecuteTime": {
     "end_time": "2023-11-29T14:39:22.648111600Z",
     "start_time": "2023-11-29T14:39:22.381774500Z"
    }
   },
   "id": "8d6b06cdd148735"
  },
  {
   "cell_type": "code",
   "execution_count": null,
   "outputs": [],
   "source": [],
   "metadata": {
    "collapsed": false
   },
   "id": "1e6471b457b4946d"
  }
 ],
 "metadata": {
  "kernelspec": {
   "display_name": "Python 3",
   "language": "python",
   "name": "python3"
  },
  "language_info": {
   "codemirror_mode": {
    "name": "ipython",
    "version": 2
   },
   "file_extension": ".py",
   "mimetype": "text/x-python",
   "name": "python",
   "nbconvert_exporter": "python",
   "pygments_lexer": "ipython2",
   "version": "2.7.6"
  }
 },
 "nbformat": 4,
 "nbformat_minor": 5
}
