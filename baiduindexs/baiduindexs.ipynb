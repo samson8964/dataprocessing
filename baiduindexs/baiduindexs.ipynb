{
 "cells": [
  {
   "cell_type": "code",
   "outputs": [],
   "source": [
    "import time\n",
    "from qdata.baidu_index import get_search_index, get_news_index  # 假设有这个函数\n",
    "from qdata.baidu_index.common import split_keywords\n",
    "import pandas as pd\n",
    "\n",
    "\n",
    "class BaiduIndex:\n",
    "    def __init__(self, keywords_list_input: list, cookies_input: str, area_code_input: int, start: str,\n",
    "                 end: str) -> None:\n",
    "        self.keywords_list = keywords_list_input\n",
    "        self.cookies = cookies_input\n",
    "        self.data_search = {'keyword': [], 'type': [], 'index': [], 'date': []}\n",
    "        self.data_info = {'keyword': [], 'type': [], 'index': [], 'date': []}\n",
    "        self.area_code = area_code_input\n",
    "        self.start_date = start\n",
    "        self.end_date = end\n",
    "\n",
    "    def process_search_index(self) -> None:\n",
    "        for keywords in split_keywords(self.keywords_list):\n",
    "            for index in get_search_index(\n",
    "                    keywords_list=keywords,\n",
    "                    start_date=self.start_date,\n",
    "                    end_date=self.end_date,\n",
    "                    cookies=self.cookies,\n",
    "                    area=self.area_code\n",
    "            ):\n",
    "                if index['type'] == 'all':\n",
    "                    self.data_search['keyword'].append(index['keyword'])\n",
    "                    self.data_search['type'].append(index['type'])\n",
    "                    self.data_search['index'].append(index['index'])\n",
    "                    self.data_search['date'].append(index['date'])\n",
    "            time.sleep(2)\n",
    "        data_final = pd.DataFrame(self.data_search)\n",
    "        data_final.to_excel('BaiduIndex_Search_Result.xlsx')\n",
    "\n",
    "    def process_info_index(self) -> None:\n",
    "        for keywords in split_keywords(self.keywords_list):\n",
    "            for index in get_news_index(  # 假设有这个函数\n",
    "                    keywords_list=keywords,\n",
    "                    start_date=self.start_date,\n",
    "                    end_date=self.end_date,\n",
    "                    cookies=self.cookies,\n",
    "                    area=self.area_code\n",
    "            ):\n",
    "                self.data_info['keyword'].append(index['keyword'])\n",
    "                self.data_info['type'].append(index['type'])\n",
    "                self.data_info['index'].append(index['index'])\n",
    "                self.data_info['date'].append(index['date'])\n",
    "            time.sleep(2)\n",
    "        data_final = pd.DataFrame(self.data_info)\n",
    "        data_final.to_excel('BaiduIndex_Info_Result.xlsx')\n",
    "\n",
    "\n",
    "if __name__ == '__main__':\n",
    "    keywords_list = [['菜籽油'], ['天安门']]\n",
    "    cookies = \"BDUSS=HVFN0szN0hFT2RpVFRZVkx6c2NwMVExUS1ZQnJ3Nm9kai1iZ3h6R2JRLXljYzlsRVFBQUFBJCQAAAAAAAAAAAEAAADzBxkCwurRxbjnsrzB1gAAAAAAAAAAAAAAAAAAAAAAAAAAAAAAAAAAAAAAAAAAAAAAAAAAAAAAAAAAAAAAAAAAAAAAALLkp2Wy5KdlO\"\n",
    "    area_code = 0\n",
    "    process_one = BaiduIndex(keywords_list_input=keywords_list, cookies_input=cookies, area_code_input=area_code,\n",
    "                             start='2022-01-01', end='2022-01-05')\n",
    "    process_one.process_search_index()  # 处理搜索指数\n",
    "    process_one.process_info_index()  # 处理资讯指数\n"
   ],
   "metadata": {
    "collapsed": false
   },
   "id": "991a45f9be04b8af"
  }
 ],
 "metadata": {
  "kernelspec": {
   "display_name": "Python 3",
   "language": "python",
   "name": "python3"
  },
  "language_info": {
   "codemirror_mode": {
    "name": "ipython",
    "version": 2
   },
   "file_extension": ".py",
   "mimetype": "text/x-python",
   "name": "python",
   "nbconvert_exporter": "python",
   "pygments_lexer": "ipython2",
   "version": "2.7.6"
  }
 },
 "nbformat": 4,
 "nbformat_minor": 5
}
