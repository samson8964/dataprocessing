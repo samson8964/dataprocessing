{
 "cells": [
  {
   "cell_type": "code",
   "execution_count": 34,
   "id": "initial_id",
   "metadata": {
    "collapsed": true,
    "ExecuteTime": {
     "end_time": "2024-02-01T06:56:45.432661500Z",
     "start_time": "2024-02-01T06:56:45.380800Z"
    }
   },
   "outputs": [],
   "source": [
    "import time\n",
    "from qdata.baidu_index import get_search_index, get_news_index  # 假设有这个函数\n",
    "from qdata.baidu_index.common import split_keywords\n",
    "import pandas as pd\n",
    "from datetime import datetime, timedelta\n",
    "from random import randint\n",
    "import numpy as np"
   ]
  },
  {
   "cell_type": "code",
   "outputs": [],
   "source": [
    "keywords = {'沪铜': ['铜价', '伦铜'], '沪银': ['银价', '白银'], '沪铝': ['铝价', '铝锭'], '沪锌': ['锌价', '锌锭'],\n",
    "            '沪铅': ['铅价'], '沪镍': ['镍价', '镍矿'], '沪锡': ['锡'], '氧化铝': ['氧化铝'], '工业硅': [],\n",
    "            '碳酸锂': ['碳酸锂'], '螺纹钢': ['螺纹钢', '钢材', '钢坯', '废钢'], '铁矿石': ['铁矿石', '铁价'],\n",
    "            '热卷': ['热卷', '钢坯', '废钢', '中厚板'], '不锈钢': ['不锈钢', '不锈钢价格'], '硅铁': ['硅铁', '金属硅'],\n",
    "            '锰硅': [], '焦煤': ['焦煤', '焦煤价格'], '焦炭': ['焦炭', '焦炭价格'], '玻璃': ['玻璃价格', '玻璃期货'],\n",
    "            '纸浆': ['纸浆'], '燃油': ['原油', '油价', '欧佩克'], '沥青': ['沥青'], '液化气': ['液化气', '燃气'],\n",
    "            'PTA': ['PTA', '聚酯纤维'], 'PVC': ['聚酯纤维', 'PVC价格'], '橡胶': ['橡胶价格'], '塑料': [],\n",
    "            '乙二醇': ['乙二醇'], '甲醇': ['甲醇'], '聚丙烯': ['聚丙烯'], '苯乙烯': [], '尿素': ['尿素', '尿素价格'],\n",
    "            '纯碱': ['纯碱', '纯碱价格'], '玉米': ['玉米价格', '粮价'], '淀粉': ['淀粉'], '大豆': ['大豆', '大豆价格'],\n",
    "            '豆粕': ['豆粕'], '豆油': [], '菜油': [], '菜粕': ['菜粕'], '棕榈油': ['棕榈油'], '花生': ['花生'],\n",
    "            '棉花': ['棉花价格', '棉花期货'], '白糖': ['白糖价格'], '鸡蛋': ['鸡蛋价格'],\n",
    "            '生猪': ['猪瘟', '生猪', '猪肉价格'],\n",
    "            '苹果期货': ['苹果期货'], '红枣': [], '集运指数': ['海运价']}\n",
    "cookies = 'BDUSS=E1icDlBUXk2VHB-N2pvQ2tMTkVZUkhFeXJTSzRySlVnVFdKcU0ycWo1RXF3YzVsRVFBQUFBJCQAAAAAAAAAAAEAAADzBxkCwurRxbjnsrzB1gAAAAAAAAAAAAAAAAAAAAAAAAAAAAAAAAAAAAAAAAAAAAAAAAAAAAAAAAAAAAAAAAAAAAAAACo0p2UqNKdle'\n"
   ],
   "metadata": {
    "collapsed": false,
    "ExecuteTime": {
     "end_time": "2024-01-31T07:38:55.853316700Z",
     "start_time": "2024-01-31T07:38:55.776902Z"
    }
   },
   "id": "ca181d8cc1639bf3",
   "execution_count": 32
  },
  {
   "cell_type": "code",
   "outputs": [
    {
     "name": "stdout",
     "output_type": "stream",
     "text": [
      "沪铜 ['铜价', '伦铜']\n",
      "沪银 ['银价', '白银']\n",
      "沪铝 ['铝价', '铝锭']\n",
      "沪锌 ['锌价', '锌锭']\n",
      "沪铅 ['铅价']\n",
      "沪镍 ['镍价', '镍矿']\n",
      "沪锡 ['锡']\n",
      "氧化铝 ['氧化铝']\n",
      "工业硅 []\n",
      "碳酸锂 ['碳酸锂']\n",
      "螺纹钢 ['螺纹钢', '钢材', '钢坯', '废钢']\n",
      "铁矿石 ['铁矿石', '铁价']\n",
      "热卷 ['热卷', '钢坯', '废钢', '中厚板']\n",
      "不锈钢 ['不锈钢', '不锈钢价格']\n",
      "硅铁 ['硅铁', '金属硅']\n",
      "锰硅 []\n",
      "焦煤 ['焦煤', '焦煤价格']\n",
      "焦炭 ['焦炭', '焦炭价格']\n",
      "玻璃 ['玻璃价格', '玻璃期货']\n",
      "纸浆 ['纸浆']\n",
      "燃油 ['原油', '油价', '欧佩克']\n",
      "沥青 ['沥青']\n",
      "液化气 ['液化气', '燃气']\n",
      "PTA ['PTA', '聚酯纤维']\n",
      "PVC ['聚酯纤维', 'PVC价格']\n",
      "橡胶 ['橡胶价格']\n",
      "塑料 []\n",
      "乙二醇 ['乙二醇']\n",
      "甲醇 ['甲醇']\n",
      "聚丙烯 ['聚丙烯']\n",
      "苯乙烯 []\n",
      "尿素 ['尿素', '尿素价格']\n",
      "纯碱 ['纯碱', '纯碱价格']\n",
      "玉米 ['玉米价格', '粮价']\n",
      "淀粉 ['淀粉']\n",
      "大豆 ['大豆', '大豆价格']\n",
      "豆粕 ['豆粕']\n",
      "豆油 []\n",
      "菜油 []\n",
      "菜粕 ['菜粕']\n",
      "棕榈油 ['棕榈油']\n",
      "花生 ['花生']\n",
      "棉花 ['棉花价格', '棉花期货']\n",
      "白糖 ['白糖价格']\n",
      "鸡蛋 ['鸡蛋价格']\n",
      "生猪 ['猪瘟', '生猪', '猪肉价格']\n",
      "苹果期货 ['苹果期货']\n",
      "红枣 []\n",
      "集运指数 ['海运价']\n"
     ]
    }
   ],
   "source": [
    "for (i, j) in keywords.items():\n",
    "    print(i, j)"
   ],
   "metadata": {
    "collapsed": false,
    "ExecuteTime": {
     "end_time": "2024-01-31T06:56:59.484624400Z",
     "start_time": "2024-01-31T06:56:59.406816800Z"
    }
   },
   "id": "ed625aaf934a7d4d",
   "execution_count": 10
  },
  {
   "cell_type": "code",
   "outputs": [],
   "source": [
    "def get_baidu(kind=0, keywords_list=[], start_date='', end_date='', cookies='', area=0):\n",
    "    data_search = {'keyword': [], 'type': [], 'index': [], 'date': []}\n",
    "    if kind == 0:\n",
    "        #for x in split_keywords(keywords_list):\n",
    "        for index in get_search_index(keywords_list=keywords_list, start_date=start_date, end_date=end_date,\n",
    "                                      cookies=cookies, area=area):\n",
    "            if index['type'] == 'all':\n",
    "                keyword_str = ', '.join(index['keyword']) if isinstance(index['keyword'], list) else index['keyword']\n",
    "                data_search['keyword'].append(keyword_str)\n",
    "                data_search['type'].append(index['type'])\n",
    "                data_search['index'].append(int(index['index']))\n",
    "                data_search['date'].append(str(index['date']))\n",
    "        time.sleep(randint(2, 5))\n",
    "        df_index = pd.DataFrame(data_search)\n",
    "        df_index.set_index('date', inplace=True, drop=True)\n",
    "        return df_index\n",
    "    if kind == 1:\n",
    "        #for x in split_keywords(keywords_list):\n",
    "        for news in get_news_index(keywords_list=keywords_list, start_date=start_date, end_date=end_date,\n",
    "                                   cookies=cookies, area=area):\n",
    "            keyword_str = ', '.join(news['keyword']) if isinstance(news['keyword'], list) else news['keyword']\n",
    "            data_search['keyword'].append(keyword_str)\n",
    "            data_search['type'].append(news['type'])\n",
    "            data_search['index'].append(int(news['index']))\n",
    "            data_search['date'].append(str(news['date']))\n",
    "        time.sleep(randint(2, 5))\n",
    "        df_news = pd.DataFrame(data_search)\n",
    "        df_news.set_index('date', inplace=True, drop=True)\n",
    "        return df_news\n"
   ],
   "metadata": {
    "collapsed": false,
    "ExecuteTime": {
     "end_time": "2024-02-01T07:18:31.688696300Z",
     "start_time": "2024-02-01T07:18:31.650797400Z"
    }
   },
   "id": "baad3785f83cb04d",
   "execution_count": 46
  },
  {
   "cell_type": "code",
   "outputs": [],
   "source": [
    "df = pd.DataFrame()\n",
    "start_day = (datetime.today() - timedelta(days=500)).strftime('%Y-%m-%d')\n",
    "end_day = datetime.today().strftime('%Y-%m-%d')\n",
    "cookies = 'BDUSS=E1icDlBUXk2VHB-N2pvQ2tMTkVZUkhFeXJTSzRySlVnVFdKcU0ycWo1RXF3YzVsRVFBQUFBJCQAAAAAAAAAAAEAAADzBxkCwurRxbjnsrzB1gAAAAAAAAAAAAAAAAAAAAAAAAAAAAAAAAAAAAAAAAAAAAAAAAAAAAAAAAAAAAAAAAAAAAAAACo0p2UqNKdle'\n",
    "#for i, j in keywords.items():\n",
    "#data = get_baidu(kind=0, keywords_list=[j], start_date=start_day, end_date=end_day, cookies=cookies, area=0)\n"
   ],
   "metadata": {
    "collapsed": false,
    "ExecuteTime": {
     "end_time": "2024-02-01T07:18:33.141594900Z",
     "start_time": "2024-02-01T07:18:33.120629Z"
    }
   },
   "id": "81f4b5563fdaad0",
   "execution_count": 47
  },
  {
   "cell_type": "code",
   "outputs": [],
   "source": [
    "data = get_baidu(kind=0, keywords_list=[['螺纹钢'], ['钢材'], ['钢坯'], ['废钢']], start_date=start_day,\n",
    "                 end_date=end_day,\n",
    "                 cookies=cookies, area=0)"
   ],
   "metadata": {
    "collapsed": false,
    "ExecuteTime": {
     "end_time": "2024-02-01T07:18:40.585692700Z",
     "start_time": "2024-02-01T07:18:34.299581300Z"
    }
   },
   "id": "b5ae4e7ddd6303c9",
   "execution_count": 48
  },
  {
   "cell_type": "code",
   "outputs": [
    {
     "data": {
      "text/plain": "           keyword type  index\ndate                          \n2022-09-19     螺纹钢  all    868\n2022-09-20     螺纹钢  all    827\n2022-09-21     螺纹钢  all    826\n2022-09-22     螺纹钢  all   1006\n2022-09-23     螺纹钢  all    802\n...            ...  ...    ...\n2024-01-27      废钢  all    132\n2024-01-28      废钢  all    146\n2024-01-29      废钢  all    151\n2024-01-30      废钢  all    147\n2024-01-31      废钢  all    146\n\n[2000 rows x 3 columns]",
      "text/html": "<div>\n<style scoped>\n    .dataframe tbody tr th:only-of-type {\n        vertical-align: middle;\n    }\n\n    .dataframe tbody tr th {\n        vertical-align: top;\n    }\n\n    .dataframe thead th {\n        text-align: right;\n    }\n</style>\n<table border=\"1\" class=\"dataframe\">\n  <thead>\n    <tr style=\"text-align: right;\">\n      <th></th>\n      <th>keyword</th>\n      <th>type</th>\n      <th>index</th>\n    </tr>\n    <tr>\n      <th>date</th>\n      <th></th>\n      <th></th>\n      <th></th>\n    </tr>\n  </thead>\n  <tbody>\n    <tr>\n      <th>2022-09-19</th>\n      <td>螺纹钢</td>\n      <td>all</td>\n      <td>868</td>\n    </tr>\n    <tr>\n      <th>2022-09-20</th>\n      <td>螺纹钢</td>\n      <td>all</td>\n      <td>827</td>\n    </tr>\n    <tr>\n      <th>2022-09-21</th>\n      <td>螺纹钢</td>\n      <td>all</td>\n      <td>826</td>\n    </tr>\n    <tr>\n      <th>2022-09-22</th>\n      <td>螺纹钢</td>\n      <td>all</td>\n      <td>1006</td>\n    </tr>\n    <tr>\n      <th>2022-09-23</th>\n      <td>螺纹钢</td>\n      <td>all</td>\n      <td>802</td>\n    </tr>\n    <tr>\n      <th>...</th>\n      <td>...</td>\n      <td>...</td>\n      <td>...</td>\n    </tr>\n    <tr>\n      <th>2024-01-27</th>\n      <td>废钢</td>\n      <td>all</td>\n      <td>132</td>\n    </tr>\n    <tr>\n      <th>2024-01-28</th>\n      <td>废钢</td>\n      <td>all</td>\n      <td>146</td>\n    </tr>\n    <tr>\n      <th>2024-01-29</th>\n      <td>废钢</td>\n      <td>all</td>\n      <td>151</td>\n    </tr>\n    <tr>\n      <th>2024-01-30</th>\n      <td>废钢</td>\n      <td>all</td>\n      <td>147</td>\n    </tr>\n    <tr>\n      <th>2024-01-31</th>\n      <td>废钢</td>\n      <td>all</td>\n      <td>146</td>\n    </tr>\n  </tbody>\n</table>\n<p>2000 rows × 3 columns</p>\n</div>"
     },
     "execution_count": 49,
     "metadata": {},
     "output_type": "execute_result"
    }
   ],
   "source": [
    "data"
   ],
   "metadata": {
    "collapsed": false,
    "ExecuteTime": {
     "end_time": "2024-02-01T07:18:42.118116300Z",
     "start_time": "2024-02-01T07:18:42.084208100Z"
    }
   },
   "id": "2c35ff9c0880c180",
   "execution_count": 49
  },
  {
   "cell_type": "code",
   "outputs": [
    {
     "data": {
      "text/plain": "           keyword  index\ndate                     \n2024-01-31     螺纹钢    591\n2024-01-31      钢材    383\n2024-01-31      钢坯    164\n2024-01-31      废钢    146",
      "text/html": "<div>\n<style scoped>\n    .dataframe tbody tr th:only-of-type {\n        vertical-align: middle;\n    }\n\n    .dataframe tbody tr th {\n        vertical-align: top;\n    }\n\n    .dataframe thead th {\n        text-align: right;\n    }\n</style>\n<table border=\"1\" class=\"dataframe\">\n  <thead>\n    <tr style=\"text-align: right;\">\n      <th></th>\n      <th>keyword</th>\n      <th>index</th>\n    </tr>\n    <tr>\n      <th>date</th>\n      <th></th>\n      <th></th>\n    </tr>\n  </thead>\n  <tbody>\n    <tr>\n      <th>2024-01-31</th>\n      <td>螺纹钢</td>\n      <td>591</td>\n    </tr>\n    <tr>\n      <th>2024-01-31</th>\n      <td>钢材</td>\n      <td>383</td>\n    </tr>\n    <tr>\n      <th>2024-01-31</th>\n      <td>钢坯</td>\n      <td>164</td>\n    </tr>\n    <tr>\n      <th>2024-01-31</th>\n      <td>废钢</td>\n      <td>146</td>\n    </tr>\n  </tbody>\n</table>\n</div>"
     },
     "execution_count": 65,
     "metadata": {},
     "output_type": "execute_result"
    }
   ],
   "source": [
    "# 如果 date 是索引，并且数据已经按日期排序\n",
    "c = data.groupby('keyword').tail(1)[['keyword', 'index']]\n",
    "c"
   ],
   "metadata": {
    "collapsed": false,
    "ExecuteTime": {
     "end_time": "2024-02-01T07:33:55.517504300Z",
     "start_time": "2024-02-01T07:33:55.462646300Z"
    }
   },
   "id": "9311f8fe81846e1c",
   "execution_count": 65
  },
  {
   "cell_type": "code",
   "outputs": [],
   "source": [
    "a = data.groupby('keyword')['index'].mean()"
   ],
   "metadata": {
    "collapsed": false,
    "ExecuteTime": {
     "end_time": "2024-02-01T07:02:15.215084300Z",
     "start_time": "2024-02-01T07:02:15.182174800Z"
    }
   },
   "id": "567ca745637456e2",
   "execution_count": 40
  },
  {
   "cell_type": "code",
   "outputs": [
    {
     "data": {
      "text/plain": "keyword\n废钢     189.424\n螺纹钢    720.234\n钢坯     174.342\n钢材     468.028\nName: index, dtype: float64"
     },
     "execution_count": 41,
     "metadata": {},
     "output_type": "execute_result"
    }
   ],
   "source": [
    "a"
   ],
   "metadata": {
    "collapsed": false,
    "ExecuteTime": {
     "end_time": "2024-02-01T07:02:16.217267400Z",
     "start_time": "2024-02-01T07:02:16.203305500Z"
    }
   },
   "id": "a71cc6692d3d41a0",
   "execution_count": 41
  },
  {
   "cell_type": "code",
   "outputs": [
    {
     "data": {
      "text/plain": "keyword\n废钢      52.533950\n螺纹钢    215.111481\n钢坯      37.608055\n钢材     126.678626\nName: index, dtype: float64"
     },
     "execution_count": 42,
     "metadata": {},
     "output_type": "execute_result"
    }
   ],
   "source": [
    "b = data.groupby('keyword')['index'].std()\n",
    "b"
   ],
   "metadata": {
    "collapsed": false,
    "ExecuteTime": {
     "end_time": "2024-02-01T07:04:44.591719800Z",
     "start_time": "2024-02-01T07:04:44.478816400Z"
    }
   },
   "id": "132d8d4bdf23aba",
   "execution_count": 42
  },
  {
   "cell_type": "code",
   "outputs": [
    {
     "ename": "KeyError",
     "evalue": "'Column not found: False'",
     "output_type": "error",
     "traceback": [
      "\u001B[1;31m---------------------------------------------------------------------------\u001B[0m",
      "\u001B[1;31mKeyError\u001B[0m                                  Traceback (most recent call last)",
      "\u001B[1;32m~\\AppData\\Local\\Temp\\ipykernel_22636\\1702013895.py\u001B[0m in \u001B[0;36m<module>\u001B[1;34m\u001B[0m\n\u001B[1;32m----> 1\u001B[1;33m \u001B[0mdata\u001B[0m\u001B[1;33m.\u001B[0m\u001B[0mgroupby\u001B[0m\u001B[1;33m(\u001B[0m\u001B[1;34m'keyword'\u001B[0m\u001B[1;33m)\u001B[0m\u001B[1;33m[\u001B[0m\u001B[1;34m'keyword'\u001B[0m\u001B[1;33m==\u001B[0m\u001B[1;34m'废钢'\u001B[0m\u001B[1;33m]\u001B[0m\u001B[1;33m[\u001B[0m\u001B[1;34m'index'\u001B[0m\u001B[1;33m]\u001B[0m\u001B[1;33m\u001B[0m\u001B[1;33m\u001B[0m\u001B[0m\n\u001B[0m",
      "\u001B[1;32mD:\\anaconda\\lib\\site-packages\\pandas\\core\\groupby\\generic.py\u001B[0m in \u001B[0;36m__getitem__\u001B[1;34m(self, key)\u001B[0m\n\u001B[0;32m   1336\u001B[0m                 \u001B[0mstacklevel\u001B[0m\u001B[1;33m=\u001B[0m\u001B[0mfind_stack_level\u001B[0m\u001B[1;33m(\u001B[0m\u001B[1;33m)\u001B[0m\u001B[1;33m,\u001B[0m\u001B[1;33m\u001B[0m\u001B[1;33m\u001B[0m\u001B[0m\n\u001B[0;32m   1337\u001B[0m             )\n\u001B[1;32m-> 1338\u001B[1;33m         \u001B[1;32mreturn\u001B[0m \u001B[0msuper\u001B[0m\u001B[1;33m(\u001B[0m\u001B[1;33m)\u001B[0m\u001B[1;33m.\u001B[0m\u001B[0m__getitem__\u001B[0m\u001B[1;33m(\u001B[0m\u001B[0mkey\u001B[0m\u001B[1;33m)\u001B[0m\u001B[1;33m\u001B[0m\u001B[1;33m\u001B[0m\u001B[0m\n\u001B[0m\u001B[0;32m   1339\u001B[0m \u001B[1;33m\u001B[0m\u001B[0m\n\u001B[0;32m   1340\u001B[0m     \u001B[1;32mdef\u001B[0m \u001B[0m_gotitem\u001B[0m\u001B[1;33m(\u001B[0m\u001B[0mself\u001B[0m\u001B[1;33m,\u001B[0m \u001B[0mkey\u001B[0m\u001B[1;33m,\u001B[0m \u001B[0mndim\u001B[0m\u001B[1;33m:\u001B[0m \u001B[0mint\u001B[0m\u001B[1;33m,\u001B[0m \u001B[0msubset\u001B[0m\u001B[1;33m=\u001B[0m\u001B[1;32mNone\u001B[0m\u001B[1;33m)\u001B[0m\u001B[1;33m:\u001B[0m\u001B[1;33m\u001B[0m\u001B[1;33m\u001B[0m\u001B[0m\n",
      "\u001B[1;32mD:\\anaconda\\lib\\site-packages\\pandas\\core\\base.py\u001B[0m in \u001B[0;36m__getitem__\u001B[1;34m(self, key)\u001B[0m\n\u001B[0;32m    248\u001B[0m         \u001B[1;32melse\u001B[0m\u001B[1;33m:\u001B[0m\u001B[1;33m\u001B[0m\u001B[1;33m\u001B[0m\u001B[0m\n\u001B[0;32m    249\u001B[0m             \u001B[1;32mif\u001B[0m \u001B[0mkey\u001B[0m \u001B[1;32mnot\u001B[0m \u001B[1;32min\u001B[0m \u001B[0mself\u001B[0m\u001B[1;33m.\u001B[0m\u001B[0mobj\u001B[0m\u001B[1;33m:\u001B[0m\u001B[1;33m\u001B[0m\u001B[1;33m\u001B[0m\u001B[0m\n\u001B[1;32m--> 250\u001B[1;33m                 \u001B[1;32mraise\u001B[0m \u001B[0mKeyError\u001B[0m\u001B[1;33m(\u001B[0m\u001B[1;34mf\"Column not found: {key}\"\u001B[0m\u001B[1;33m)\u001B[0m\u001B[1;33m\u001B[0m\u001B[1;33m\u001B[0m\u001B[0m\n\u001B[0m\u001B[0;32m    251\u001B[0m             \u001B[0msubset\u001B[0m \u001B[1;33m=\u001B[0m \u001B[0mself\u001B[0m\u001B[1;33m.\u001B[0m\u001B[0mobj\u001B[0m\u001B[1;33m[\u001B[0m\u001B[0mkey\u001B[0m\u001B[1;33m]\u001B[0m\u001B[1;33m\u001B[0m\u001B[1;33m\u001B[0m\u001B[0m\n\u001B[0;32m    252\u001B[0m             \u001B[0mndim\u001B[0m \u001B[1;33m=\u001B[0m \u001B[0msubset\u001B[0m\u001B[1;33m.\u001B[0m\u001B[0mndim\u001B[0m\u001B[1;33m\u001B[0m\u001B[1;33m\u001B[0m\u001B[0m\n",
      "\u001B[1;31mKeyError\u001B[0m: 'Column not found: False'"
     ]
    }
   ],
   "source": [
    "data.groupby('keyword')['keyword' == '废钢']['index']"
   ],
   "metadata": {
    "collapsed": false,
    "ExecuteTime": {
     "end_time": "2024-02-01T07:06:53.302194200Z",
     "start_time": "2024-02-01T07:06:53.175734400Z"
    }
   },
   "id": "ccf369727c3af8a3",
   "execution_count": 43
  },
  {
   "cell_type": "code",
   "outputs": [
    {
     "ename": "AttributeError",
     "evalue": "'Series' object has no attribute 'merge'",
     "output_type": "error",
     "traceback": [
      "\u001B[1;31m---------------------------------------------------------------------------\u001B[0m",
      "\u001B[1;31mAttributeError\u001B[0m                            Traceback (most recent call last)",
      "\u001B[1;32m~\\AppData\\Local\\Temp\\ipykernel_22636\\920843681.py\u001B[0m in \u001B[0;36m<module>\u001B[1;34m\u001B[0m\n\u001B[0;32m      1\u001B[0m \u001B[1;31m# 假设 a, b, c 都是 pandas DataFrame，并且都有一个名为 'keyword' 的列\u001B[0m\u001B[1;33m\u001B[0m\u001B[1;33m\u001B[0m\u001B[0m\n\u001B[1;32m----> 2\u001B[1;33m \u001B[0mmerged\u001B[0m \u001B[1;33m=\u001B[0m \u001B[0ma\u001B[0m\u001B[1;33m.\u001B[0m\u001B[0mmerge\u001B[0m\u001B[1;33m(\u001B[0m\u001B[0mb\u001B[0m\u001B[1;33m,\u001B[0m \u001B[0mon\u001B[0m\u001B[1;33m=\u001B[0m\u001B[1;34m'keyword'\u001B[0m\u001B[1;33m,\u001B[0m \u001B[0mhow\u001B[0m\u001B[1;33m=\u001B[0m\u001B[1;34m'inner'\u001B[0m\u001B[1;33m)\u001B[0m\u001B[1;33m.\u001B[0m\u001B[0mmerge\u001B[0m\u001B[1;33m(\u001B[0m\u001B[0mc\u001B[0m\u001B[1;33m,\u001B[0m \u001B[0mon\u001B[0m\u001B[1;33m=\u001B[0m\u001B[1;34m'keyword'\u001B[0m\u001B[1;33m,\u001B[0m \u001B[0mhow\u001B[0m\u001B[1;33m=\u001B[0m\u001B[1;34m'inner'\u001B[0m\u001B[1;33m)\u001B[0m\u001B[1;33m\u001B[0m\u001B[1;33m\u001B[0m\u001B[0m\n\u001B[0m\u001B[0;32m      3\u001B[0m \u001B[1;33m\u001B[0m\u001B[0m\n",
      "\u001B[1;32mD:\\anaconda\\lib\\site-packages\\pandas\\core\\generic.py\u001B[0m in \u001B[0;36m__getattr__\u001B[1;34m(self, name)\u001B[0m\n\u001B[0;32m   5573\u001B[0m         ):\n\u001B[0;32m   5574\u001B[0m             \u001B[1;32mreturn\u001B[0m \u001B[0mself\u001B[0m\u001B[1;33m[\u001B[0m\u001B[0mname\u001B[0m\u001B[1;33m]\u001B[0m\u001B[1;33m\u001B[0m\u001B[1;33m\u001B[0m\u001B[0m\n\u001B[1;32m-> 5575\u001B[1;33m         \u001B[1;32mreturn\u001B[0m \u001B[0mobject\u001B[0m\u001B[1;33m.\u001B[0m\u001B[0m__getattribute__\u001B[0m\u001B[1;33m(\u001B[0m\u001B[0mself\u001B[0m\u001B[1;33m,\u001B[0m \u001B[0mname\u001B[0m\u001B[1;33m)\u001B[0m\u001B[1;33m\u001B[0m\u001B[1;33m\u001B[0m\u001B[0m\n\u001B[0m\u001B[0;32m   5576\u001B[0m \u001B[1;33m\u001B[0m\u001B[0m\n\u001B[0;32m   5577\u001B[0m     \u001B[1;32mdef\u001B[0m \u001B[0m__setattr__\u001B[0m\u001B[1;33m(\u001B[0m\u001B[0mself\u001B[0m\u001B[1;33m,\u001B[0m \u001B[0mname\u001B[0m\u001B[1;33m:\u001B[0m \u001B[0mstr\u001B[0m\u001B[1;33m,\u001B[0m \u001B[0mvalue\u001B[0m\u001B[1;33m)\u001B[0m \u001B[1;33m->\u001B[0m \u001B[1;32mNone\u001B[0m\u001B[1;33m:\u001B[0m\u001B[1;33m\u001B[0m\u001B[1;33m\u001B[0m\u001B[0m\n",
      "\u001B[1;31mAttributeError\u001B[0m: 'Series' object has no attribute 'merge'"
     ]
    }
   ],
   "source": [
    "# 假设 a, b, c 都是 pandas DataFrame，并且都有一个名为 'keyword' 的列\n",
    "merged = a.merge(b, on='keyword', how='inner').merge(c, on='keyword', how='inner')\n"
   ],
   "metadata": {
    "collapsed": false,
    "ExecuteTime": {
     "end_time": "2024-02-01T07:36:29.936248Z",
     "start_time": "2024-02-01T07:36:29.871420600Z"
    }
   },
   "id": "3104c016963f218f",
   "execution_count": 66
  },
  {
   "cell_type": "code",
   "outputs": [],
   "source": [],
   "metadata": {
    "collapsed": false
   },
   "id": "bd4062a5d8c5c450"
  }
 ],
 "metadata": {
  "kernelspec": {
   "display_name": "Python 3",
   "language": "python",
   "name": "python3"
  },
  "language_info": {
   "codemirror_mode": {
    "name": "ipython",
    "version": 2
   },
   "file_extension": ".py",
   "mimetype": "text/x-python",
   "name": "python",
   "nbconvert_exporter": "python",
   "pygments_lexer": "ipython2",
   "version": "2.7.6"
  }
 },
 "nbformat": 4,
 "nbformat_minor": 5
}
